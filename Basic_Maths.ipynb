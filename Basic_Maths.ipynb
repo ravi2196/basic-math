{
 "cells": [
  {
   "cell_type": "markdown",
   "metadata": {},
   "source": [
    "# Basic Math Algorithms"
   ]
  },
  {
   "cell_type": "markdown",
   "metadata": {},
   "source": [
    "## Sum of Digits of a Number\n",
    "\n",
    "The sum of the digits of a number is calculated by repeatedly extracting the last digit and summing it up until the number becomes zero.\n",
    "\n",
    "### Example\n",
    "\n",
    "Input: 1234\n",
    "Output: 10"
   ]
  },
  {
   "cell_type": "code",
   "execution_count": 8,
   "metadata": {},
   "outputs": [
    {
     "name": "stdout",
     "output_type": "stream",
     "text": [
      "5\n",
      "4\n",
      "3\n",
      "2\n",
      "1\n",
      "Sum of digits of number 12345 is 15 \n"
     ]
    }
   ],
   "source": [
    "num = int (input(\"Enter the number: \"))\n",
    "num1 = num\n",
    "sum = 0\n",
    "while(num1 > 0):\n",
    "    last_digit = num1 % 10\n",
    "    \n",
    "    sum = sum + last_digit\n",
    "    \n",
    "    num1 = num1 // 10\n",
    "    print(last_digit)\n",
    "\n",
    "print(f\"Sum of digits of number {num} is {sum} \")"
   ]
  },
  {
   "cell_type": "markdown",
   "metadata": {},
   "source": [
    "## Reverse of a Number\n",
    "\n",
    "Reversing a number involves reversing the digits of the number.\n",
    "\n",
    "### Example\n",
    "\n",
    "Input: 1234\n",
    "Output: 4321"
   ]
  },
  {
   "cell_type": "code",
   "execution_count": 9,
   "metadata": {},
   "outputs": [
    {
     "name": "stdout",
     "output_type": "stream",
     "text": [
      "Reverse of number 12345 is 54321 \n"
     ]
    }
   ],
   "source": [
    "num = int (input(\"Enter the number: \"))\n",
    "num1 = int(num)\n",
    "# sum = 0\n",
    "rev_num = 0\n",
    "while(num1 > 0):\n",
    "    last_digit = num1 % 10\n",
    "    # sum = sum + last_digit\n",
    "    num1 = num1 // 10\n",
    "    rev_num = (rev_num * 10) + last_digit\n",
    "    # print(last_digit)\n",
    "\n",
    "# print(f\"Sum of digits of number {num} is {sum} \")\n",
    "print(f\"Reverse of number {num} is {rev_num} \")"
   ]
  },
  {
   "cell_type": "markdown",
   "metadata": {},
   "source": [
    "## Palindrome Number\n",
    "\n",
    "A palindrome number is a number that remains the same when its digits are reversed.\n",
    "\n",
    "### Example\n",
    "\n",
    "Input: 121\n",
    "Output: True"
   ]
  },
  {
   "cell_type": "code",
   "execution_count": 10,
   "metadata": {},
   "outputs": [
    {
     "name": "stdout",
     "output_type": "stream",
     "text": [
      "The number 1234321 is Palindrome.\n"
     ]
    }
   ],
   "source": [
    "num = int (input(\"Enter the number: \"))\n",
    "num1 = int(num)\n",
    "rev_num = 0\n",
    "while(num1 > 0):\n",
    "    last_digit = num1 % 10\n",
    "    num1 = num1 // 10\n",
    "    rev_num = (rev_num * 10) + last_digit\n",
    "    \n",
    "if(num == rev_num):\n",
    "    print(f\"The number {num} is Palindrome.\")\n",
    "else:\n",
    "    print(\"False\")\n",
    "# print(f\"Reverse of number {num} is {rev_num} \")"
   ]
  },
  {
   "cell_type": "markdown",
   "metadata": {},
   "source": [
    "## Armstrong Number\n",
    "\n",
    "An Armstrong number (also known as a narcissistic number) is a number that is equal to the sum of its own digits each raised to the power of the number of digits.\n",
    "\n",
    "### Example\n",
    "\n",
    "Input: 153\n",
    "Output: True"
   ]
  },
  {
   "cell_type": "code",
   "execution_count": 11,
   "metadata": {},
   "outputs": [
    {
     "name": "stdout",
     "output_type": "stream",
     "text": [
      "3\n",
      "The number 153 is Armstrong.\n"
     ]
    }
   ],
   "source": [
    "num = input(\"Enter the number: \")\n",
    "cnt = len(num)\n",
    "num1 = int(num)\n",
    "num = int(num)\n",
    "print(cnt)\n",
    "Armstrong = 0\n",
    "while(num1 > 0):\n",
    "    last_digit = num1 % 10\n",
    "    Armstrong = Armstrong + (last_digit ** cnt)\n",
    "    num1 = num1 // 10\n",
    "\n",
    "if(num == Armstrong):\n",
    "    print(f\"The number {num} is Armstrong.\")\n",
    "else:\n",
    "    print(f\"The number {num} is NOT Armstrong.\")"
   ]
  },
  {
   "cell_type": "markdown",
   "metadata": {},
   "source": [
    "## Divisors of a Number\n",
    "\n",
    "The divisors of a number are the numbers that divide it exactly without leaving a remainder.\n",
    "\n",
    "### Example\n",
    "\n",
    "Input: 6\n",
    "Output: [1, 2, 3, 6]"
   ]
  },
  {
   "cell_type": "code",
   "execution_count": 12,
   "metadata": {},
   "outputs": [
    {
     "name": "stdout",
     "output_type": "stream",
     "text": [
      "[1, 2, 3, 4, 6, 9, 12, 18, 36]\n"
     ]
    }
   ],
   "source": [
    "num = int(input(\"Enter the number: \"))\n",
    "divisors = []\n",
    "for i in range(1, num+1):\n",
    "    if(num % i == 0):\n",
    "        divisors.append(i)\n",
    "\n",
    "print(divisors)"
   ]
  },
  {
   "cell_type": "markdown",
   "metadata": {},
   "source": [
    "## Check Prime Number\n",
    "\n",
    "A prime number is a number greater than 1 that has no positive divisors other than 1 and itself.\n",
    "\n",
    "### Example\n",
    "\n",
    "Input: 7\n",
    "Output: True"
   ]
  },
  {
   "cell_type": "code",
   "execution_count": 13,
   "metadata": {},
   "outputs": [
    {
     "name": "stdout",
     "output_type": "stream",
     "text": [
      "True\n"
     ]
    }
   ],
   "source": [
    "import math\n",
    "def isPrime(num):\n",
    "    cnt = 0\n",
    "    for i in range(1, int(math.sqrt(num)) + 1):\n",
    "        if(num % i == 0):\n",
    "            cnt = cnt + 1\n",
    "    if cnt == 1:\n",
    "        return True\n",
    "    else:\n",
    "        return False\n",
    "\n",
    "num = int(input(\"Enter the number: \"))\n",
    "print(isPrime(num))"
   ]
  },
  {
   "cell_type": "markdown",
   "metadata": {},
   "source": [
    "## Find GCD\n",
    "\n",
    "The greatest common divisor (GCD) of two numbers is the largest number that divides both of them without leaving a remainder.\n",
    "\n",
    "### Example\n",
    "\n",
    "Input: (8, 12)\n",
    "Output: 4"
   ]
  },
  {
   "cell_type": "code",
   "execution_count": 14,
   "metadata": {},
   "outputs": [
    {
     "name": "stdout",
     "output_type": "stream",
     "text": [
      "GCD of 24 and 36 is 12\n"
     ]
    }
   ],
   "source": [
    "def find_gcd(num1, num2):\n",
    "    gcd = 1\n",
    "    for i in range(1, min(num1, num2)+1):\n",
    "        if num1 % i == 0 and num2 % i == 0:\n",
    "            gcd = i\n",
    "    return gcd\n",
    "\n",
    "if __name__ == \"__main__\":\n",
    "    num1 = int(input(\"Enter number1: \"))\n",
    "    num2 = int(input(\"Enter number2: \"))\n",
    "    res = find_gcd(num1, num2)\n",
    "    print(f\"GCD of {num1} and {num2} is {res}\")"
   ]
  }
 ],
 "metadata": {
  "kernelspec": {
   "display_name": "Python 3",
   "language": "python",
   "name": "python3"
  },
  "language_info": {
   "codemirror_mode": {
    "name": "ipython",
    "version": 3
   },
   "file_extension": ".py",
   "mimetype": "text/x-python",
   "name": "python",
   "nbconvert_exporter": "python",
   "pygments_lexer": "ipython3",
   "version": "3.12.4"
  }
 },
 "nbformat": 4,
 "nbformat_minor": 2
}
